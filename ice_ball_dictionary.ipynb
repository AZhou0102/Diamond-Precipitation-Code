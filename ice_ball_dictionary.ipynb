{
 "cells": [
  {
   "cell_type": "code",
   "execution_count": 177,
   "id": "1378cafa-7c40-4c23-8491-b905fed081e8",
   "metadata": {},
   "outputs": [
    {
     "data": {
      "text/plain": [
       "{2548000: [7678], 5096000: [2648], 6370000: [930]}"
      ]
     },
     "execution_count": 177,
     "metadata": {},
     "output_type": "execute_result"
    }
   ],
   "source": [
    "r_earth = 6370 * (10 ** 3)\n",
    "\n",
    "def ice_ball_dictionary(earth_rads, iron_part, sio2_part):\n",
    "    ice_part = 1 - iron_part - sio2_part\n",
    "\n",
    "    radius = earth_rads * r_earth\n",
    "    \n",
    "    iron_radius = iron_part * radius\n",
    "    sio2_radius = sio2_part * radius\n",
    "    ice_radius = ice_part * radius\n",
    "\n",
    "    key1 = int(iron_radius)\n",
    "    key2 = int(iron_radius) + int(sio2_radius)\n",
    "    key3 = int(radius)\n",
    "    \n",
    "    ice_ball_dict = {key1: [7678], key2: [3000], key3: [930]}\n",
    "#key3 is a dictionary that maps to three dictionaries corresponding to iceIH, ice6, ice7\n",
    "#key2\n",
    "#key1 for Fe0.93Si0.07\n",
    "    \n",
    "    return(ice_ball_dict)\n",
    "\n",
    "#for r in range(0.1, 4, 0.1):\n",
    "    #for i in range(0.1, 0.9, 0.1):\n",
    "        #pass\n",
    "\n",
    "ice_ball_dictionary(1, 0.4, 0.4)"
   ]
  },
  {
   "cell_type": "markdown",
   "id": "525f721c-cce3-4559-ae19-0248e221e3a3",
   "metadata": {},
   "source": [
    "ice_ball_dict = {\n",
    "    10: {9999999999999999999: [7678, 136.2 * (10 ** 9), 5.97, 'vinet']}, \n",
    "\n",
    "    30: {\n",
    "        23 * (10 ** 9): {'sio2': {2.5 * (10 ** 9): [2648, 37.4 * (10 ** 9), 6.2, 'bm3'],\n",
    "                                  8 * (10 ** 9): [2921, 96 * (10 ** 9), 8.4, 'bm3'], \n",
    "                                  23 * (10 ** 10): [4290, 309.9 * (10 ** 9), 4.59, 'bm3']},\n",
    "                     'mg2sio4': {14 * (10 ** 9): [3221, 125 * (10 ** 9), 4.0, 'bm3'],\n",
    "                                  18 * (10 ** 9): [3491, 160  * (10 ** 9), 4, 'bm3'],\n",
    "                                  23 * (10 ** 10): [3548, 182.0 * (10 ** 9), 4.2, 'bm3']}\n",
    "                     },\n",
    "                     \n",
    "                    120 * (10 ** 9): [4101, 256 * (10 ** 9), 4, 'bm3'],\n",
    "                    99999999999999999: [4058, 221 * (10 ** 9), 4.2, 'vinet']\n",
    "                 }, \n",
    "                20: {0:[930, 9.85 * (10 ** 9), 6.6, 'murnaghan'],\n",
    "                     1 * (10 ** 9):[1271, 14.05 * (10 ** 9), 4, 'bm3'],\n",
    "                     2.1 * (10 ** 9):[1456,14.9 * (10 ** 9), 5.4, 'bm3']}\n",
    "                }\n",
    "\n",
    "for cutoff in list(ice_ball_dict.keys()):\n",
    "\n",
    "    for pressure_bound in list(ice_ball_dict[cutoff].keys()):\n",
    "        print('pressure_bound', pressure_bound)\n",
    "        if type(ice_ball_dict[cutoff][pressure_bound]) == dict:\n",
    "            #print(list(ice_ball_dict[cutoff][pressure_bound].values())[0])\n",
    "            for sio2_secondary_pressure_bound in list(ice_ball_dict[cutoff][pressure_bound].values())[0]:\n",
    "                for mg2sio4_secondary_pressure_bound in list(ice_ball_dict[cutoff][pressure_bound].values())[1]:\n",
    "                \n",
    "                    print('sio2_secondary_pressure_bound', sio2_secondary_pressure_bound)\n",
    "                    print('mg2sio4_secondary_pressure_bound', mg2sio4_secondary_pressure_bound)\n",
    "                    newdick = (ice_ball_dict[cutoff][pressure_bound])\n",
    "                    print(newdick['sio2'][sio2_secondary_pressure_bound][0])\n",
    "                    print(newdick['mg2sio4'][mg2sio4_secondary_pressure_bound][0])\n",
    "            #print(list(ice_ball_dict[cutoff][pressure_bound].values())[1])\n",
    "            print('next')\n",
    "        else:\n",
    "            print(ice_ball_dict[cutoff][pressure_bound][0])\n"
   ]
  }
 ],
 "metadata": {
  "kernelspec": {
   "display_name": "Python 3 (ipykernel)",
   "language": "python",
   "name": "python3"
  },
  "language_info": {
   "codemirror_mode": {
    "name": "ipython",
    "version": 3
   },
   "file_extension": ".py",
   "mimetype": "text/x-python",
   "name": "python",
   "nbconvert_exporter": "python",
   "pygments_lexer": "ipython3",
   "version": "3.11.7"
  }
 },
 "nbformat": 4,
 "nbformat_minor": 5
}
