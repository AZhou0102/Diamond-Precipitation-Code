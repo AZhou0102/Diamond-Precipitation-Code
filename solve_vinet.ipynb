{
 "cells": [
  {
   "cell_type": "code",
   "execution_count": 107,
   "id": "5d89bf76-cc02-4669-9509-89811bdc7fe9",
   "metadata": {},
   "outputs": [],
   "source": [
    "#Calculate rho(r)n+1 from P(r)n using equation of state\n",
    "#Units all in SI\n",
    "\n",
    "import numpy as np\n",
    "\n",
    "#computes pressure from density via Vinet. Used for checking density guesses\n",
    "def vinet(rho, rho_0, B_0, B_01):\n",
    "    eta = (rho_0 / rho) ** (1/3)\n",
    "    pressure = 3 * B_0 * ((1 - eta) / (eta ** 2)) * np.exp((3/2) * (B_01 - 1) * (1 - eta))\n",
    "    return(pressure)\n",
    "\n",
    "#takes a target pressure and returns the density associated with it via Vinet\n",
    "def invert_vinet(P_target, rho_0, rho_min, rho_max, B_0, B_01, allowed_discrepancy = (0.05 * (10 ** 9))):\n",
    "    rho_guess = (rho_min + rho_max) / 2\n",
    "    P_guess = vinet(rho_guess, rho_0, B_0, B_01)\n",
    "\n",
    "#    print('rho guess: ', rho_guess)\n",
    "#    print('guess: ', P_guess)\n",
    "#    print('target: ', P_target, '\\n')\n",
    "    \n",
    "    if abs(P_guess - P_target) < allowed_discrepancy:\n",
    "#        print(f\"rho_guess: {rho_guess} in kg/m^3,\\nP_guess: {np.format_float_scientific(P_guess, precision = 9)},\\nP_target: {np.format_float_scientific(P_target, precision = 9)} in Pa\\n\")\n",
    "        return(rho_guess)\n",
    "\n",
    "    elif P_guess > P_target:\n",
    "        return(invert_vinet(P_target, rho_0, rho_min, rho_guess, B_0, B_01, allowed_discrepancy))\n",
    "\n",
    "    elif P_guess < P_target:\n",
    "        return(invert_vinet(P_target, rho_0, rho_guess, rho_max, B_0, B_01, allowed_discrepancy))\n",
    "\n",
    "\n",
    "#example list of target pressures\n",
    "example_target_pressures = [100000000000, 500000000000, 900000000000]\n",
    "wolanin_97 = [1487, 1487, 14870, 14.9 * (10 ** 9), 6.2]\n",
    "\n",
    "#turns list of pressures and list of parameters into an iterable dictionary to unpack for inputs\n",
    "def make_input(target_pressures, parameters):\n",
    "    inputs = {}\n",
    "    for i in target_pressures:\n",
    "        inputs[i] = [i] + parameters\n",
    "    return(inputs)\n",
    "\n",
    "#list parameters in order of: rho_0, rho_min, rho_max, B_0, B_01\n",
    "def display_invert_vinet(target_pressures, parameters):\n",
    "    for key, value in make_input(target_pressures, parameters).items():\n",
    "        print(invert_vinet(*value))\n",
    "\n",
    "#example\n",
    "#display_invert_vinet(example_target_pressures, wolanin_97)\n",
    "\n",
    "ambient = [0, 50.47 * (10 ** 9), 128* (10 ** 9)]\n",
    "stichorite = [2143.5, 2143.5, 21435, 309.9 * (10 ** 9), 4.59]\n",
    "#display_invert_vinet(ambient, stichorite)"
   ]
  }
 ],
 "metadata": {
  "kernelspec": {
   "display_name": "Python 3 (ipykernel)",
   "language": "python",
   "name": "python3"
  },
  "language_info": {
   "codemirror_mode": {
    "name": "ipython",
    "version": 3
   },
   "file_extension": ".py",
   "mimetype": "text/x-python",
   "name": "python",
   "nbconvert_exporter": "python",
   "pygments_lexer": "ipython3",
   "version": "3.11.7"
  }
 },
 "nbformat": 4,
 "nbformat_minor": 5
}
